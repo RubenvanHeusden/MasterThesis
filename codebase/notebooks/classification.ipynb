{
 "cells": [
  {
   "cell_type": "markdown",
   "metadata": {},
   "source": [
    "# Gemeente van Amsterdam Dataste Classification Tests"
   ]
  },
  {
   "cell_type": "code",
   "execution_count": 10,
   "metadata": {},
   "outputs": [
    {
     "ename": "ModuleNotFoundError",
     "evalue": "No module named 'codebase'",
     "output_type": "error",
     "traceback": [
      "\u001b[1;31m---------------------------------------------------------------------------\u001b[0m",
      "\u001b[1;31mModuleNotFoundError\u001b[0m                       Traceback (most recent call last)",
      "\u001b[1;32m<ipython-input-10-4a28f2c3db61>\u001b[0m in \u001b[0;36m<module>\u001b[1;34m\u001b[0m\n\u001b[0;32m     11\u001b[0m \u001b[1;32mimport\u001b[0m \u001b[0mnumpy\u001b[0m \u001b[1;32mas\u001b[0m \u001b[0mnp\u001b[0m\u001b[1;33m\u001b[0m\u001b[1;33m\u001b[0m\u001b[0m\n\u001b[0;32m     12\u001b[0m \u001b[1;32mfrom\u001b[0m \u001b[0mtorchtext\u001b[0m\u001b[1;33m.\u001b[0m\u001b[0mdata\u001b[0m \u001b[1;32mimport\u001b[0m \u001b[0mField\u001b[0m\u001b[1;33m,\u001b[0m \u001b[0mLabelField\u001b[0m\u001b[1;33m\u001b[0m\u001b[1;33m\u001b[0m\u001b[0m\n\u001b[1;32m---> 13\u001b[1;33m \u001b[1;32mfrom\u001b[0m \u001b[0mcodebase\u001b[0m\u001b[1;33m.\u001b[0m\u001b[0mdata_classes\u001b[0m\u001b[1;33m.\u001b[0m\u001b[0mimdbdataset\u001b[0m \u001b[1;32mimport\u001b[0m \u001b[0mIMDBDataset\u001b[0m\u001b[1;33m\u001b[0m\u001b[1;33m\u001b[0m\u001b[0m\n\u001b[0m\u001b[0;32m     14\u001b[0m \u001b[1;32mfrom\u001b[0m \u001b[0mcodebase\u001b[0m\u001b[1;33m.\u001b[0m\u001b[0mdata_classes\u001b[0m\u001b[1;33m.\u001b[0m\u001b[0msttdataset\u001b[0m \u001b[1;32mimport\u001b[0m \u001b[0mSSTDataset\u001b[0m\u001b[1;33m\u001b[0m\u001b[1;33m\u001b[0m\u001b[0m\n\u001b[0;32m     15\u001b[0m \u001b[1;32mfrom\u001b[0m \u001b[0mcodebase\u001b[0m\u001b[1;33m.\u001b[0m\u001b[0mdata_classes\u001b[0m\u001b[1;33m.\u001b[0m\u001b[0mcustomdataloader\u001b[0m \u001b[1;32mimport\u001b[0m \u001b[0mCustomDataLoader\u001b[0m\u001b[1;33m\u001b[0m\u001b[1;33m\u001b[0m\u001b[0m\n",
      "\u001b[1;31mModuleNotFoundError\u001b[0m: No module named 'codebase'"
     ]
    }
   ],
   "source": [
    "import os\n",
    "import sys\n",
    "\n",
    "path = \"C:/Users/ruben/Desktop/Master\\ Thesis/Code/MasterThesis\"\n",
    "sys.path.append(path)\n",
    "\n",
    "import pandas as pd\n",
    "import csv\n",
    "import torch.nn as nn\n",
    "import torch.optim as optim\n",
    "import numpy as np\n",
    "from torchtext.data import Field, LabelField\n",
    "from codebase.data_classes.imdbdataset import IMDBDataset\n",
    "from codebase.data_classes.sttdataset import SSTDataset\n",
    "from codebase.data_classes.customdataloader import CustomDataLoader\n",
    "from codebase.data_classes.yelpdataset import YelpDataset\n",
    "from codebase.models.simplelstm import SimpleLSTM\n",
    "from torch.optim.lr_scheduler import StepLR\n",
    "from codebase.experiments.single_task_classification.train_methods import *\n",
    "from codebase.experiments.single_task_classification.config import *\n",
    "from codebase.models.simplemoe import SimpleMoE\n",
    "from codebase.models.mlp import MLP"
   ]
  },
  {
   "cell_type": "code",
   "execution_count": 19,
   "metadata": {},
   "outputs": [],
   "source": [
    "# data_path = \"D:/data/\"\n",
    "\n",
    "# dframe = pd.read_csv(data_path+\"new_1234.csv\", sep=\",\")"
   ]
  },
  {
   "cell_type": "code",
   "execution_count": 21,
   "metadata": {},
   "outputs": [],
   "source": [
    "# #klachten = dframe[dframe['Bericht'].str.contains(\"klacht|klachten|gebreke\")]\n",
    "# status_mask = dframe['Bericht'].str.contains(\"duurt|lang|erg lang|gehoord|niks gehoord|hoelang| hoe lang|wacht|geleden|status\")\n",
    "\n",
    "# dframe['Classes'][status_mask] = 0\n",
    "# dframe['Classes'][np.logical_not(status_mask)] = 1\n",
    "# dframe.to_csv(data_path+\"1234_with_classes.csv\", sep=\";\")"
   ]
  },
  {
   "cell_type": "code",
   "execution_count": null,
   "metadata": {},
   "outputs": [],
   "source": []
  }
 ],
 "metadata": {
  "kernelspec": {
   "display_name": "Python 3 (thesis)",
   "language": "python",
   "name": "thesis"
  },
  "language_info": {
   "codemirror_mode": {
    "name": "ipython",
    "version": 3
   },
   "file_extension": ".py",
   "mimetype": "text/x-python",
   "name": "python",
   "nbconvert_exporter": "python",
   "pygments_lexer": "ipython3",
   "version": "3.7.6"
  }
 },
 "nbformat": 4,
 "nbformat_minor": 2
}
