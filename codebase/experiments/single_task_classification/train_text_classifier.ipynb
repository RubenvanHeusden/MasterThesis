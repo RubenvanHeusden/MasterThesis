{
 "cells": [
  {
   "cell_type": "markdown",
   "metadata": {},
   "source": [
    "# Single Task Classification Notebook"
   ]
  },
  {
   "cell_type": "markdown",
   "metadata": {},
   "source": [
    "First we import the necessary packages and modules\n"
   ]
  },
  {
   "cell_type": "code",
   "execution_count": 1,
   "metadata": {},
   "outputs": [],
   "source": [
    "import os\n",
    "import sys\n",
    "module_path = \"../../../\"\n",
    "if module_path not in sys.path:\n",
    "    sys.path.append(module_path)\n",
    "import torch.nn as nn\n",
    "import torch.optim as optim\n",
    "import numpy as np\n",
    "from torchtext.data import Field, LabelField\n",
    "from codebase.data.imdbdataset import IMDBDataset\n",
    "from codebase.data.customdataloader import CustomDataLoader\n",
    "from torch.optim.lr_scheduler import StepLR\n",
    "from codebase.experiments.single_task_classification.train_methods import *\n",
    "from codebase.experiments.single_task_classification.config import *\n",
    "# This models are some example model used for initial experiments\n",
    "from codebase.models.simplelstm import SimpleLSTM\n",
    "from codebase.models.simplemoe import SimpleMoE\n",
    "from codebase.models.mlp import MLP\n",
    "# The below lines are only needed when running the notebook on google colab\n",
    "# from google.colab import drive\n",
    "# drive.mount('/content/gdrive')\n"
   ]
  },
  {
   "cell_type": "markdown",
   "metadata": {},
   "source": [
    "Set the constants for the experiments"
   ]
  },
  {
   "cell_type": "code",
   "execution_count": 2,
   "metadata": {},
   "outputs": [],
   "source": [
    "torch.cuda.empty_cache()\n",
    "torch.manual_seed(RANDOM_SEED)\n",
    "np.random.seed(RANDOM_SEED)\n",
    "batch_size = BATCH_SIZE\n",
    "include_lens = INCLUDE_LENGTHS\n",
    "device = torch.device(\"cuda\" if torch.cuda.is_available() else \"cpu\")"
   ]
  },
  {
   "cell_type": "markdown",
   "metadata": {},
   "source": [
    "Load in the data and construct iterators over batches"
   ]
  },
  {
   "cell_type": "code",
   "execution_count": 3,
   "metadata": {},
   "outputs": [],
   "source": [
    "TEXT = Field(lower=SET_LOWERCASE, include_lengths=include_lens, batch_first=True)\n",
    "# TEXT = Field(lower=True, tokenize=\"spacy\", tokenizer_language=\"en\", include_lengths=True, batch_first=True)\n",
    "LABEL = LabelField(dtype=torch.long)\n",
    "\n",
    "dataset = IMDBDataset(TEXT, LABEL, path=\"../.data/imdb/aclImdb\").load()\n",
    "# Load the IMDB dataset and split it into train and test portions\n",
    "dloader = CustomDataLoader(dataset, TEXT, LABEL)\n",
    "data_iterators = dloader.construct_iterators(vectors=\"glove.6B.300d\", vector_cache=\"../.vector_cache\",\n",
    "                                             batch_size=BATCH_SIZE, device=device)"
   ]
  },
  {
   "cell_type": "markdown",
   "metadata": {},
   "source": [
    "Set the specific models to be used and optimizer / scheduler for training"
   ]
  },
  {
   "cell_type": "code",
   "execution_count": 4,
   "metadata": {},
   "outputs": [],
   "source": [
    "g = SimpleLSTM(vocab=TEXT.vocab, embedding_dim=300, hidden_dim=8, output_dim=3, device=device)\n",
    "expert_networks = [SimpleLSTM(vocab=TEXT.vocab, embedding_dim=300, hidden_dim=128, output_dim=2, device=device)\n",
    "                   for _ in range(3)]\n",
    "\n",
    "moe_model = SimpleMoE(None, gating_network=g, expert_networks=\n",
    "                      expert_networks, output_dim=2, device=torch.device(\"cpu\"))\n",
    "\n",
    "\n",
    "criterion = nn.CrossEntropyLoss()\n",
    "# optimizer = optim.SGD(lstm_model.parameters(), lr=OPTIMIZER_LEARNING_RATE)\n",
    "optimizer = optim.SGD(moe_model.parameters(), lr=OPTIMIZER_LEARNING_RATE)\n",
    "scheduler = StepLR(optimizer, step_size=SCHEDULER_STEP_SIZE, gamma=SCHEDULER_GAMMA)"
   ]
  },
  {
   "cell_type": "code",
   "execution_count": null,
   "metadata": {},
   "outputs": [],
   "source": [
    "# train(moe_model, criterion, optimizer, scheduler, data_iterators[0], device=device, include_lengths=include_lens,\n",
    "#     save_path='saved_models/MoE', save_name=\"IMDB_dataset\", use_tensorboard=True)"
   ]
  }
 ],
 "metadata": {
  "kernelspec": {
   "display_name": "Python 3 (thesis)",
   "language": "python",
   "name": "thesis"
  },
  "language_info": {
   "codemirror_mode": {
    "name": "ipython",
    "version": 3
   },
   "file_extension": ".py",
   "mimetype": "text/x-python",
   "name": "python",
   "nbconvert_exporter": "python",
   "pygments_lexer": "ipython3",
   "version": "3.7.6"
  }
 },
 "nbformat": 4,
 "nbformat_minor": 2
}
